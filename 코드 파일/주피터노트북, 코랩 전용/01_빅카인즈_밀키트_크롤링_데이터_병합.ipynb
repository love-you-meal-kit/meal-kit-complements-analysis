{
 "cells": [
  {
   "cell_type": "code",
   "execution_count": null,
   "metadata": {
    "id": "3KvTZZXo6UFB"
   },
   "outputs": [],
   "source": [
    "import pandas as pd"
   ]
  },
  {
   "cell_type": "code",
   "execution_count": null,
   "metadata": {
    "id": "NUHQD_Fk6AEl"
   },
   "outputs": [],
   "source": [
    "df1=pd.read_csv(\"빅카인즈-밀키트_크롤링\\\\밀키트_20170101_20171231.csv\")\n",
    "df2=pd.read_csv(\"빅카인즈-밀키트_크롤링\\\\밀키트_20180101_20180701.csv\")\n",
    "df3=pd.read_csv(\"빅카인즈-밀키트_크롤링\\\\밀키트_20180701_20180715.csv\")\n",
    "df4=pd.read_csv(\"빅카인즈-밀키트_크롤링\\\\밀키트_20180715_20181231.csv\")\n",
    "df5=pd.read_csv(\"빅카인즈-밀키트_크롤링\\\\밀키트_20181231_20190101.csv\")\n",
    "df6=pd.read_csv(\"빅카인즈-밀키트_크롤링\\\\밀키트_20190101_20190301.csv\")\n",
    "df7=pd.read_csv(\"빅카인즈-밀키트_크롤링\\\\밀키트_20190301_20190601.csv\")\n",
    "df8=pd.read_csv(\"빅카인즈-밀키트_크롤링\\\\밀키트_20190601_20190901.csv\")\n",
    "df9=pd.read_csv(\"빅카인즈-밀키트_크롤링\\\\밀키트_20190901_20200101.csv\")\n",
    "df10=pd.read_csv(\"빅카인즈-밀키트_크롤링\\\\밀키트_20200101_20200401.csv\")\n",
    "df11=pd.read_csv(\"빅카인즈-밀키트_크롤링\\\\밀키트_20200401_20200501.csv\")\n",
    "df12=pd.read_csv(\"빅카인즈-밀키트_크롤링\\\\밀키트_20200501_20200701.csv\")\n",
    "df13=pd.read_csv(\"빅카인즈-밀키트_크롤링\\\\밀키트_20200701_20200801.csv\")\n",
    "df14=pd.read_csv(\"빅카인즈-밀키트_크롤링\\\\밀키트_20200801_20200901.csv\")\n",
    "df15=pd.read_csv(\"빅카인즈-밀키트_크롤링\\\\밀키트_20200901_20201001.csv\")\n",
    "df16=pd.read_csv(\"빅카인즈-밀키트_크롤링\\\\밀키트_20201001_20201101.csv\")\n",
    "df17=pd.read_csv(\"빅카인즈-밀키트_크롤링\\\\밀키트_20201101_20201201.csv\")\n",
    "df18=pd.read_csv(\"빅카인즈-밀키트_크롤링\\\\밀키트_20201201_20201231.csv\")\n",
    "df19=pd.read_csv(\"빅카인즈-밀키트_크롤링\\\\밀키트_20210101_20210115.csv\")\n",
    "df20=pd.read_csv(\"빅카인즈-밀키트_크롤링\\\\밀키트_20210116_20210131.csv\")\n",
    "df21=pd.read_csv(\"빅카인즈-밀키트_크롤링\\\\밀키트_20210201_20210215.csv\")\n",
    "df22=pd.read_csv(\"빅카인즈-밀키트_크롤링\\\\밀키트_20210216_20210228.csv\")\n",
    "df23=pd.read_csv(\"빅카인즈-밀키트_크롤링\\\\밀키트_20210301_20210315.csv\")\n",
    "df24=pd.read_csv(\"빅카인즈-밀키트_크롤링\\\\밀키트_20210316_20210331.csv\")\n",
    "df25=pd.read_csv(\"빅카인즈-밀키트_크롤링\\\\밀키트_20210401_20210415.csv\")\n",
    "df26=pd.read_csv(\"빅카인즈-밀키트_크롤링\\\\밀키트_20210416_20210430.csv\")\n",
    "df27=pd.read_csv(\"빅카인즈-밀키트_크롤링\\\\밀키트_20210501_20210515.csv\")\n",
    "df28=pd.read_csv(\"빅카인즈-밀키트_크롤링\\\\밀키트_20210516_20210531.csv\")\n",
    "df29=pd.read_csv(\"빅카인즈-밀키트_크롤링\\\\밀키트_20210601_20210615.csv\")\n",
    "df30=pd.read_csv(\"빅카인즈-밀키트_크롤링\\\\밀키트_20210616_20210630.csv\")\n",
    "df31=pd.read_csv(\"빅카인즈-밀키트_크롤링\\\\밀키트_20210701_20210715.csv\")\n",
    "df32=pd.read_csv(\"빅카인즈-밀키트_크롤링\\\\밀키트_20210716_20210731.csv\")\n",
    "df33=pd.read_csv(\"빅카인즈-밀키트_크롤링\\\\밀키트_20210801_20210808.csv\")"
   ]
  },
  {
   "cell_type": "code",
   "execution_count": null,
   "metadata": {
    "colab": {
     "base_uri": "https://localhost:8080/",
     "height": 203
    },
    "id": "U1nGyjL06S-6",
    "outputId": "7c6850d5-9cdf-4117-81d4-e9b7d3f99889"
   },
   "outputs": [
    {
     "data": {
      "text/html": [
       "<div>\n",
       "<style scoped>\n",
       "    .dataframe tbody tr th:only-of-type {\n",
       "        vertical-align: middle;\n",
       "    }\n",
       "\n",
       "    .dataframe tbody tr th {\n",
       "        vertical-align: top;\n",
       "    }\n",
       "\n",
       "    .dataframe thead th {\n",
       "        text-align: right;\n",
       "    }\n",
       "</style>\n",
       "<table border=\"1\" class=\"dataframe\">\n",
       "  <thead>\n",
       "    <tr style=\"text-align: right;\">\n",
       "      <th></th>\n",
       "      <th>Date</th>\n",
       "      <th>Title</th>\n",
       "      <th>Content</th>\n",
       "    </tr>\n",
       "  </thead>\n",
       "  <tbody>\n",
       "    <tr>\n",
       "      <th>0</th>\n",
       "      <td>2017-12-27</td>\n",
       "      <td>연말연시 ‘홈파티족’ 확산, 홈파티 ‘잇츠온’ 간편식 직접 체험해보니</td>\n",
       "      <td>요리하는 재미 ‘쏠쏠~~’ 맛도 ‘일품’ 분위기는 ‘덤’\\n\\n\\n\\n거리를 가득 ...</td>\n",
       "    </tr>\n",
       "    <tr>\n",
       "      <th>1</th>\n",
       "      <td>2017-12-27</td>\n",
       "      <td>식물성·간편식·슈퍼곡물에 빠졌던 2017년</td>\n",
       "      <td>식품을 낭비없이 먹는 ‘제로 웨이스트’…SNS발달로 이국적 맛 ‘에스닉 푸드’ 등 ...</td>\n",
       "    </tr>\n",
       "    <tr>\n",
       "      <th>2</th>\n",
       "      <td>2017-12-27</td>\n",
       "      <td>올해만 10여개 브랜드 출시, 가정간편식 '춘추전국시대'</td>\n",
       "      <td>야구르트 아줌마가 배달하는 간편식,백화점의 프리미엄 간편식, 편의점에서 간단히 만나...</td>\n",
       "    </tr>\n",
       "    <tr>\n",
       "      <th>3</th>\n",
       "      <td>2017-12-26</td>\n",
       "      <td>유통업계 '밀 솔루션' 경쟁 본격화</td>\n",
       "      <td>유통업계가 소비자 라이프스타일 변화에 발맞춰 간편한 한끼 식사가 가능한 제품과 서비...</td>\n",
       "    </tr>\n",
       "    <tr>\n",
       "      <th>4</th>\n",
       "      <td>2017-12-19</td>\n",
       "      <td>해먹남녀, GS리테일 ‘심플리쿡’ 판매 진행 “칼질 없이 일품요리 즐겨”</td>\n",
       "      <td>푸드 콘텐츠 커머스 플랫폼 ‘해먹남녀’를 운영하는 바이탈힌트 코리아(대표 정지웅)는...</td>\n",
       "    </tr>\n",
       "  </tbody>\n",
       "</table>\n",
       "</div>"
      ],
      "text/plain": [
       "         Date  ...                                            Content\n",
       "0  2017-12-27  ...  요리하는 재미 ‘쏠쏠~~’ 맛도 ‘일품’ 분위기는 ‘덤’\\n\\n\\n\\n거리를 가득 ...\n",
       "1  2017-12-27  ...  식품을 낭비없이 먹는 ‘제로 웨이스트’…SNS발달로 이국적 맛 ‘에스닉 푸드’ 등 ...\n",
       "2  2017-12-27  ...  야구르트 아줌마가 배달하는 간편식,백화점의 프리미엄 간편식, 편의점에서 간단히 만나...\n",
       "3  2017-12-26  ...  유통업계가 소비자 라이프스타일 변화에 발맞춰 간편한 한끼 식사가 가능한 제품과 서비...\n",
       "4  2017-12-19  ...  푸드 콘텐츠 커머스 플랫폼 ‘해먹남녀’를 운영하는 바이탈힌트 코리아(대표 정지웅)는...\n",
       "\n",
       "[5 rows x 3 columns]"
      ]
     },
     "execution_count": 4,
     "metadata": {},
     "output_type": "execute_result"
    }
   ],
   "source": [
    "#데이터 합치기\n",
    "df=pd.concat((df1,df2,df3,df4,df5,df6,df7,df8,df9,df10,df11,df12,df13,df14,df15,df16,df17,df18,df19,df20,df21,df22,df23,df24,df25,df26,df27,df28,df29,df30,df31,df32,df33),axis=0)\n",
    "df.head()"
   ]
  },
  {
   "cell_type": "code",
   "execution_count": null,
   "metadata": {
    "id": "YzzBJQJf6WZk"
   },
   "outputs": [],
   "source": [
    "df.to_csv(\"크롤링 결과.csv\",encoding=\"utf-8-sig\")"
   ]
  },
  {
   "cell_type": "code",
   "execution_count": null,
   "metadata": {
    "id": "z19TIcTM6ZNM"
   },
   "outputs": [],
   "source": []
  }
 ],
 "metadata": {
  "colab": {
   "name": "01_빅카인즈_밀키트_크롤링 데이터 병합.ipynb",
   "provenance": []
  },
  "kernelspec": {
   "display_name": "Python 3",
   "language": "python",
   "name": "python3"
  },
  "language_info": {
   "codemirror_mode": {
    "name": "ipython",
    "version": 3
   },
   "file_extension": ".py",
   "mimetype": "text/x-python",
   "name": "python",
   "nbconvert_exporter": "python",
   "pygments_lexer": "ipython3",
   "version": "3.8.5"
  }
 },
 "nbformat": 4,
 "nbformat_minor": 1
}
