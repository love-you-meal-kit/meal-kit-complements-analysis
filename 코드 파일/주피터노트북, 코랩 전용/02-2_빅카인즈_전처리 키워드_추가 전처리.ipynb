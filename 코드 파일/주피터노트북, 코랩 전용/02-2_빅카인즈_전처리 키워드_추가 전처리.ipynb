{
 "cells": [
  {
   "cell_type": "markdown",
   "metadata": {},
   "source": [
    "# ** 2-7 추가 전처리**"
   ]
  },
  {
   "cell_type": "markdown",
   "metadata": {},
   "source": [
    "### **빅카인즈에서 제공한 키워드(밀키트 뉴스데이터.csv)에 대해 연구목적에 맞게 추가적으로 전처리를 진행함**"
   ]
  },
  {
   "cell_type": "code",
   "execution_count": null,
   "metadata": {
    "id": "RAWW_ujxnknj"
   },
   "outputs": [],
   "source": [
    "import pandas as pd\n",
    "df=pd.read_csv(\"밀키트 뉴스데이터.csv\")"
   ]
  },
  {
   "cell_type": "code",
   "execution_count": null,
   "metadata": {
    "id": "Q9jpVQP5peq_"
   },
   "outputs": [],
   "source": [
    "#단어 교체\n",
    "def change(text):\n",
    "    text_list=text.split(',')\n",
    "    result=[]\n",
    "    for c in text_list:\n",
    "        if c=='11번':\n",
    "            c=c.replace('11번','11번가')\n",
    "        if c=='인공지능':\n",
    "            c=c.replace('인공지능','AI')\n",
    "        result.append(c)\n",
    "    return result"
   ]
  },
  {
   "cell_type": "code",
   "execution_count": null,
   "metadata": {
    "id": "rrCIqSzAoLxI"
   },
   "outputs": [],
   "source": [
    "df['키워드']=df['키워드'].map(lambda x: change(x))"
   ]
  },
  {
   "cell_type": "code",
   "execution_count": null,
   "metadata": {
    "id": "MQ8iP8teshGQ"
   },
   "outputs": [],
   "source": [
    "stopwords=pd.read_csv('불용어 처리.txt',header=None)"
   ]
  },
  {
   "cell_type": "code",
   "execution_count": null,
   "metadata": {
    "id": "1-lYD4FsyxFm"
   },
   "outputs": [],
   "source": [
    "stopwords=stopwords[0].tolist()"
   ]
  },
  {
   "cell_type": "code",
   "execution_count": null,
   "metadata": {
    "id": "u5JuqpmxqyLN"
   },
   "outputs": [],
   "source": [
    "#불용어처리\n",
    "def remove(text,stopwords):\n",
    "    keywords=','.join([c for c in text if c not in stopwords])\n",
    "    return keywords"
   ]
  },
  {
   "cell_type": "code",
   "execution_count": null,
   "metadata": {
    "id": "-sXraeXsrBqV"
   },
   "outputs": [],
   "source": [
    "df['키워드']=df['키워드'].map(lambda x: remove(x,stopwords) )"
   ]
  },
  {
   "cell_type": "code",
   "execution_count": null,
   "metadata": {
    "id": "CdWUBdhprbrh"
   },
   "outputs": [],
   "source": [
    "df=df['키워드']"
   ]
  },
  {
   "cell_type": "code",
   "execution_count": null,
   "metadata": {
    "colab": {
     "base_uri": "https://localhost:8080/"
    },
    "id": "arPubpU-UjmS",
    "outputId": "093d8a8a-9c75-47d2-c8eb-ee723428d7b8"
   },
   "outputs": [
    {
     "data": {
      "text/plain": [
       "0       재배,채소,제공,웰빙,먹거리,하이원리조트,요리사,셰프들,재배,채소,식재료,활용,손님...\n",
       "1       백화점,롯데쇼핑,매출,역성장,실적,롯데쇼핑,백화점,회복세,롯데마트,롯데하이마트,e커...\n",
       "2       밀키트,창업,가정,안산시,밀키트,기탁,브랜드,100호,밀키트,창업,브랜드,최단,기간...\n",
       "3       수산물,할인,정부,소비,촉진,정부,할인,쿠폰,발행,지원,추가,코로나19,최소화,전통...\n",
       "4       소상공인,구독,경제,바우처,제공,소상공인,구독경제,중소벤처기업부,비상,경제,중앙,대...\n",
       "                              ...                        \n",
       "5524    밀키트,블루에이프런,성공비결,신뢰,체인,식재료,공급,관리,소비자,입맛,업계,선두로,...\n",
       "5525    밀키트,길래,손질,식재료,레시피,박스,배달,규모,급성장,전문,오프라인,마켓,인기몰이...\n",
       "5526    배달,민족,정보,보호,관리,체계,ISMS,인증,획득,배달,배달,민족,정보,보호,관리...\n",
       "5527    배달,민족,민족,주문,배달,민족,월간,주문,520만,712만,성장,070만,달성,사...\n",
       "5528    배달,민족,주문,돌파,1070만,주문,주문량,달성월,평균,3.6건,배달,민족,주문,...\n",
       "Name: 키워드, Length: 5529, dtype: object"
      ]
     },
     "execution_count": 11,
     "metadata": {
      "tags": []
     },
     "output_type": "execute_result"
    }
   ],
   "source": [
    "df"
   ]
  },
  {
   "cell_type": "code",
   "execution_count": null,
   "metadata": {
    "colab": {
     "base_uri": "https://localhost:8080/"
    },
    "id": "IY3kCt6qxOZl",
    "outputId": "36a5b9bb-4ca1-498b-a1a5-192c3f9ff2d1"
   },
   "outputs": [
    {
     "data": {
      "text/plain": [
       "0       재배,채소,제공,웰빙,먹거리,하이원리조트,요리사,셰프들,재배,채소,식재료,활용,손님...\n",
       "1       백화점,롯데쇼핑,매출,역성장,실적,롯데쇼핑,백화점,회복세,롯데마트,롯데하이마트,e커...\n",
       "2       밀키트,창업,가정,안산시,밀키트,기탁,브랜드,100호,밀키트,창업,브랜드,최단,기간...\n",
       "3       수산물,할인,정부,소비,촉진,정부,할인,쿠폰,발행,지원,추가,코로나19,최소화,전통...\n",
       "4       소상공인,구독,경제,바우처,제공,소상공인,구독경제,중소벤처기업부,비상,경제,중앙,대...\n",
       "                              ...                        \n",
       "4994    LG전자,KBIS,시그니처,스위트,공개,칼럼,와인셀러,가스오븐레인지,소개,아마존,토...\n",
       "4995    LG전자,초프리미엄,450억,달러,공략,빌트인,시장,LG전자,프리미엄,빌트,시그니처...\n",
       "4996    국민연금,OK,현대그린푸드,성장,토끼,배당,마리,배당,성향,국민,연금,주주,유통,채...\n",
       "4997    야쿠르트,간장회사,경쟁,간편식,시장,육박,매출,요즘,시장,아줌마,요즘,야쿠르트,카트...\n",
       "4998    조계헌,원장,창업이야기,1코노미,흐름,변화,교수,서울대,김난도,저서,트렌드,코리아,...\n",
       "Name: 키워드, Length: 4999, dtype: object"
      ]
     },
     "execution_count": 15,
     "metadata": {
      "tags": []
     },
     "output_type": "execute_result"
    }
   ],
   "source": [
    "df=df[:5506]\n",
    "df"
   ]
  },
  {
   "cell_type": "code",
   "execution_count": null,
   "metadata": {
    "id": "xbzjtCaZt86Q"
   },
   "outputs": [],
   "source": [
    "df.to_csv('밀키트 뉴스데이터 전처리_최종.csv',encoding='utf-8-sig')"
   ]
  }
 ],
 "metadata": {
  "colab": {
   "collapsed_sections": [],
   "name": "02_1_빅카인즈_키워드 전처리.ipynb",
   "provenance": []
  },
  "kernelspec": {
   "display_name": "Python 3",
   "language": "python",
   "name": "python3"
  },
  "language_info": {
   "codemirror_mode": {
    "name": "ipython",
    "version": 3
   },
   "file_extension": ".py",
   "mimetype": "text/x-python",
   "name": "python",
   "nbconvert_exporter": "python",
   "pygments_lexer": "ipython3",
   "version": "3.8.5"
  }
 },
 "nbformat": 4,
 "nbformat_minor": 1
}
